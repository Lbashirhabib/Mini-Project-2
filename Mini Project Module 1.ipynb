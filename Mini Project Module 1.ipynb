{
 "cells": [
  {
   "cell_type": "markdown",
   "metadata": {},
   "source": [
    "**Mini Projects Module 1**"
   ]
  },
  {
   "cell_type": "markdown",
   "metadata": {},
   "source": [
    "1. Quize Game"
   ]
  },
  {
   "cell_type": "code",
   "execution_count": 1,
   "metadata": {},
   "outputs": [
    {
     "name": "stdout",
     "output_type": "stream",
     "text": [
      "Incorrect! The correct answer is: paris\n",
      "Correct!\n",
      "Incorrect! The correct answer is: jupiter\n",
      "Incorrect! The correct answer is: 1912\n",
      "Incorrect! The correct answer is: shakespeare\n",
      "Your final score is: 1 out of 5\n"
     ]
    }
   ],
   "source": [
    "#Task 1\n",
    "def run_quiz():\n",
    "    # List of questions and answers\n",
    "    questions = [\n",
    "        {\n",
    "            \"question\": \"What is the capital of France?\",\n",
    "            \"answer\": \"paris\"\n",
    "        },\n",
    "        {\n",
    "            \"question\": \"What is 2 + 2?\",\n",
    "            \"answer\": \"4\"\n",
    "        },\n",
    "        {\n",
    "            \"question\": \"What is the largest planet in our solar system?\",\n",
    "            \"answer\": \"jupiter\"\n",
    "        },\n",
    "        {\n",
    "            \"question\": \"What year did the Titanic sink?\",\n",
    "            \"answer\": \"1912\"\n",
    "        },\n",
    "        {\n",
    "            \"question\": \"Who wrote 'Hamlet'?\",\n",
    "            \"answer\": \"shakespeare\"\n",
    "        }\n",
    "    ]\n",
    "\n",
    "    score = 0\n",
    "\n",
    "    #  let Loop through each question\n",
    "    for q in questions:\n",
    "        user_answer = input(q[\"question\"] + \" \").strip().lower()\n",
    "\n",
    "        if user_answer == q[\"answer\"]:\n",
    "            print(\"Correct!\")\n",
    "            score += 1\n",
    "        else:\n",
    "            print(f\"Incorrect! The correct answer is: {q['answer']}\")\n",
    "\n",
    "    # Now Display the final score\n",
    "    print(f\"Your final score is: {score} out of {len(questions)}\")\n",
    "\n",
    "if __name__ == \"__main__\":\n",
    "    run_quiz()\n"
   ]
  },
  {
   "cell_type": "markdown",
   "metadata": {},
   "source": [
    "2. Number Swapping"
   ]
  },
  {
   "cell_type": "code",
   "execution_count": 1,
   "metadata": {},
   "outputs": [
    {
     "name": "stdout",
     "output_type": "stream",
     "text": [
      "Before swapping: num1 = 2.0, num2 = 3.0\n",
      "After swapping: num1 = 3.0, num2 = 2.0\n"
     ]
    }
   ],
   "source": [
    "#Task 2\n",
    "def swap_numbers():\n",
    "    while True:\n",
    "        try:\n",
    "            # Accepting user input\n",
    "            num1 = float(input(\"Enter the first number: \"))\n",
    "            num2 = float(input(\"Enter the second number: \"))\n",
    "            break  # Exit the loop if input is valid\n",
    "        except ValueError:\n",
    "            print(\"Invalid input. Please enter numeric values.\")\n",
    "\n",
    "    # We Display values before swapping\n",
    "    print(f\"Before swapping: num1 = {num1}, num2 = {num2}\")\n",
    "\n",
    "    # we Swapping using tuple unpacking\n",
    "    num1, num2 = num2, num1\n",
    "\n",
    "    # Now Display values after swapping\n",
    "    print(f\"After swapping: num1 = {num1}, num2 = {num2}\")\n",
    "\n",
    "if __name__ == \"__main__\":\n",
    "    swap_numbers()"
   ]
  },
  {
   "cell_type": "markdown",
   "metadata": {},
   "source": [
    "3. Prime/Armstrong/Palimdrom Number identifier"
   ]
  },
  {
   "cell_type": "code",
   "execution_count": null,
   "metadata": {},
   "outputs": [],
   "source": [
    "#Task 3\n",
    "def is_prime(num):\n",
    "    if num <= 1:\n",
    "        return False\n",
    "    for i in range(2, int(num**0.5) + 1):\n",
    "        if num % i == 0:\n",
    "            return False\n",
    "    return True\n",
    "\n",
    "def is_armstrong(num):\n",
    "    digits = str(num)\n",
    "    num_digits = len(digits)\n",
    "    return sum(int(digit) ** num_digits for digit in digits) == num\n",
    "\n",
    "def is_palindrome(num):\n",
    "    return str(num) == str(num)[::-1]\n",
    "\n",
    "def main():\n",
    "    while True:\n",
    "        try:\n",
    "            number = int(input(\"Enter an integer: \"))\n",
    "            break  # Exit the loop if input is valid\n",
    "        except ValueError:\n",
    "            print(\"Invalid input. Please enter an integer.\")\n",
    "\n",
    "    results = []\n",
    "\n",
    "    if is_prime(number):\n",
    "        results.append(\"Prime number\")\n",
    "    if is_armstrong(number):\n",
    "        results.append(\"Armstrong number\")\n",
    "    if is_palindrome(number):\n",
    "        results.append(\"Palindrome number\")\n",
    "\n",
    "    if results:\n",
    "        print(f\"The number {number} is: {', '.join(results)}.\")\n",
    "    else:\n",
    "        print(f\"The number {number} does not satisfy any of the criteria.\")\n",
    "\n",
    "if __name__ == \"__main__\":\n",
    "    main()"
   ]
  },
  {
   "cell_type": "markdown",
   "metadata": {},
   "source": [
    "4. The Fibonaci Sequence"
   ]
  },
  {
   "cell_type": "code",
   "execution_count": null,
   "metadata": {},
   "outputs": [],
   "source": [
    "#Task 4\n",
    "def generate_fibonacci(n):\n",
    "    fibonacci_sequence = []\n",
    "    a, b = 0, 1\n",
    "    for _ in range(n):\n",
    "        fibonacci_sequence.append(a)\n",
    "        a, b = b, a + b\n",
    "    return fibonacci_sequence\n",
    "\n",
    "def main():\n",
    "    while True:\n",
    "        try:\n",
    "            n = int(input(\"Enter a positive integer (n) to generate the Fibonacci sequence: \"))\n",
    "            if n <= 0:\n",
    "                print(\"Please enter a positive integer greater than zero.\")\n",
    "            else:\n",
    "                break  # Exit the loop if input is valid\n",
    "        except ValueError:\n",
    "            print(\"Invalid input. Please enter a positive integer.\")\n",
    "\n",
    "    # Generate and display Fibonacci sequence\n",
    "    fibonacci_sequence = generate_fibonacci(n)\n",
    "    print(f\"The first {n} terms of the Fibonacci sequence are: {fibonacci_sequence}\")\n",
    "\n",
    "if __name__ == \"__main__\":\n",
    "    main()"
   ]
  }
 ],
 "metadata": {
  "kernelspec": {
   "display_name": "base",
   "language": "python",
   "name": "python3"
  },
  "language_info": {
   "codemirror_mode": {
    "name": "ipython",
    "version": 3
   },
   "file_extension": ".py",
   "mimetype": "text/x-python",
   "name": "python",
   "nbconvert_exporter": "python",
   "pygments_lexer": "ipython3",
   "version": "3.12.7"
  }
 },
 "nbformat": 4,
 "nbformat_minor": 2
}
